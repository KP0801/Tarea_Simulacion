{
 "cells": [
  {
   "cell_type": "code",
   "execution_count": null,
   "id": "10e112a7-843e-41fa-a6a8-08b6699bf25c",
   "metadata": {
    "editable": true,
    "slideshow": {
     "slide_type": ""
    },
    "tags": []
   },
   "outputs": [],
   "source": [
    "import uuid\n",
    "import random\n",
    "import numpy as np\n",
    "from datetime import datetime, timedelta\n",
    "from scipy.stats import truncnorm\n",
    "import pandas as pd\n"
   ]
  },
  {
   "cell_type": "code",
   "execution_count": null,
   "id": "5e1d9b69-07c4-48bc-8ea8-e06165f00a0d",
   "metadata": {},
   "outputs": [],
   "source": [
    "def generate_unique_id(size):\n",
    "\treturn [uuid.uuid4().hex[:16] for _ in range(size)]"
   ]
  },
  {
   "cell_type": "code",
   "execution_count": null,
   "id": "14832622-c4d0-4211-a4b9-4f9153ef54bb",
   "metadata": {},
   "outputs": [],
   "source": [
    "def get_random_dates(start_date, end_date, size):\n",
    "\tstart = datetime.strptime(start_date, '%Y-%m-%d')\n",
    "\tend = datetime.strptime(end_date, '%Y-%m-%d')\n",
    "\tdelta = end - start\n",
    "\treturn [(start + timedelta(days=random.randint(0, delta.days))).strftime(\"%Y-%m-%d\") for _ in range(size)]"
   ]
  },
  {
   "cell_type": "code",
   "execution_count": null,
   "id": "153646c9-ab97-47e2-a173-f2972815fb5c",
   "metadata": {},
   "outputs": [],
   "source": [
    "def get_random_category(values, size):\n",
    "\treturn [random.choice(values) for _ in range(size)]"
   ]
  },
  {
   "cell_type": "code",
   "execution_count": null,
   "id": "d96fe27a-0293-4912-9645-52594fcd295b",
   "metadata": {},
   "outputs": [],
   "source": [
    "def generate_truncated_normal_data(mean, std, min_val, max_val, size):\n",
    "    # Calcular los parámetros de la distribución normal truncada\n",
    "    a, b = (min_val - mean) / std, (max_val - mean) / std\n",
    "    data = truncnorm(a, b, loc=mean, scale=std).rvs(size)\n",
    "    return data"
   ]
  },
  {
   "cell_type": "code",
   "execution_count": null,
   "id": "a50f8d61-2662-4599-b0b0-fd4abe95a6b3",
   "metadata": {},
   "outputs": [],
   "source": [
    "def simpleNormal(min,max,n):\n",
    "    list=[]\n",
    "    mean=(min+max)/2\n",
    "    std=(max-min)/6\n",
    "    return np.random.normal(mean,std,n)"
   ]
  },
  {
   "cell_type": "code",
   "execution_count": null,
   "id": "ebdd75ac-28e8-4c6c-950a-6f879afd5901",
   "metadata": {},
   "outputs": [],
   "source": [
    "\n",
    "def encontrar_maximo(config):\n",
    "    maximo = 0\n",
    "    \n",
    "    if not config.get(\"random\", True):\n",
    "        for columna in config[\"columns\"]:\n",
    "            if columna[\"type\"] == \"date\":\n",
    "                fecha_min = datetime.strptime(columna[\"values\"][\"min\"], '%Y-%m-%d')\n",
    "                fecha_max = datetime.strptime(columna[\"values\"][\"max\"], '%Y-%m-%d')\n",
    "                dias = (fecha_max - fecha_min).days\n",
    "                maximo = max(maximo, dias)\n",
    "            elif columna[\"type\"] == \"category\":\n",
    "                maximo = max(maximo, len(columna[\"values\"]))\n",
    "            elif columna[\"type\"] == \"numeric\":\n",
    "                maximo = max(maximo, columna[\"values\"][\"max\"])\n",
    "    \n",
    "    return maximo"
   ]
  },
  {
   "cell_type": "code",
   "execution_count": null,
   "id": "bb41df00-5680-4aeb-bb92-932a4598a6ac",
   "metadata": {},
   "outputs": [],
   "source": [
    "\n",
    "d1 = {\n",
    "\t\"ds\": \"dataset\",\n",
    "\t\"columns\": [\n",
    "\t\t{\n",
    "\t\t\t\"name\": \"area\",\n",
    "\t\t\t\"type\": \"category\",\n",
    "\t\t\t\"values\": [\"TI\", \"FIN\", \"HR\"]\n",
    "\t\t},\n",
    "\t\t{\n",
    "\t\t\t\"name\": \"id\",\n",
    "\t\t\t\"type\": \"unique\"\n",
    "\t\t}\n",
    "\t],\n",
    "\t\"random\": False\n",
    "}\n",
    "d3 = {\n",
    "\"ds\": \"dataset3\",\n",
    "\"columns\": [\n",
    "{\n",
    "\"name\": \"id\",\n",
    "\"type\": \"unique\"\n",
    "},\n",
    "{\n",
    "\"name\": \"subarea\",\n",
    "\"type\": \"category\",\n",
    "\"values\": \"dataset2.id\"\n",
    "},\n",
    "{\n",
    "\"name\": \"income\",\n",
    "\"type\": \"numeric\",\n",
    "\"values\": {\"min\": 10, \"max\": 20}\n",
    "},\n",
    "{\n",
    "\"name\": \"goal\",\n",
    "\"type\": \"numeric\",\n",
    "\"values\": {\"min\": 10, \"max\": 100, \"std\": 0.5,\n",
    "\"mean\": 110/2}\n",
    "}\n",
    "],\n",
    "\"random\": True,\n",
    "\"random_rows\": 1000\n",
    "}\n",
    "d4 = {\n",
    "\t\"ds\": \"dataset\",\n",
    "\t\"columns\": [\n",
    "\t\t{\n",
    "\t\t\t\"name\": \"Fecha\",\n",
    "\t\t\t\"type\": \"date\",\n",
    "\t\t\t\"values\": {\n",
    "\t\t\t\t\"min\": \"2024-01-01\",\n",
    "\t\t\t\t\"max\": \"2024-02-28\"\n",
    "\t\t\t}\n",
    "\t\t}\n",
    "\t],\n",
    "\t\"random\": False\n",
    "}"
   ]
  },
  {
   "cell_type": "code",
   "execution_count": null,
   "id": "9b02853b-d07d-42e4-a6a0-08c8aa1ebb53",
   "metadata": {},
   "outputs": [],
   "source": [
    "config_list = [d1, d4]\n",
    "dataFrameList = []\n",
    "\n",
    "for config in config_list:\n",
    "\tdataElement = {}\n",
    "\t\n",
    "\tsize = config[\"random_rows\"] if config.get(\"random\", False)  else  encontrar_maximo(config)\n",
    "\t\n",
    "\tfor column in config[\"columns\"]:\n",
    "\t\tcol_type = column[\"type\"]\n",
    "\t\t\n",
    "\t\tif col_type == \"unique\":\n",
    "\t\t\tdataElement[column[\"name\"]] = generate_unique_id(size)\n",
    "\t\telif col_type == \"date\":\n",
    "\t\t\tdataElement[column[\"name\"]] = get_random_dates(column[\"values\"][\"min\"], column[\"values\"][\"max\"], size)\n",
    "\t\telif col_type == \"category\":\n",
    "\t\t\tdataElement[column[\"name\"]] = get_random_category(column[\"values\"], size)\n",
    "\t\telif col_type == \"numeric\":\n",
    "\t\t\tvalues = column[\"values\"]\n",
    "\t\t\tif \"mean\" in values:\n",
    "\t\t\t\tdataElement[column[\"name\"]] = generate_truncated_normal_data(\n",
    "\t\t\t\t\tvalues[\"mean\"], values[\"std\"], values[\"min\"], values[\"max\"], size)\n",
    "\t\t\telse:\n",
    "\t\t\t\tdataElement[column[\"name\"]] = simpleNormal(values[\"min\"], values[\"max\"], size)\n",
    "\t\n",
    "\tdataFrameList.append(pd.DataFrame(dataElement))"
   ]
  },
  {
   "cell_type": "code",
   "execution_count": null,
   "id": "5ffce670-45f6-4fc6-9222-c1a77b9087f2",
   "metadata": {},
   "outputs": [],
   "source": [
    "print(dataFrameList)\n"
   ]
  }
 ],
 "metadata": {
  "kernelspec": {
   "display_name": "Python 3 (ipykernel)",
   "language": "python",
   "name": "python3"
  },
  "language_info": {
   "codemirror_mode": {
    "name": "ipython",
    "version": 3
   },
   "file_extension": ".py",
   "mimetype": "text/x-python",
   "name": "python",
   "nbconvert_exporter": "python",
   "pygments_lexer": "ipython3",
   "version": "3.12.4"
  }
 },
 "nbformat": 4,
 "nbformat_minor": 5
}
